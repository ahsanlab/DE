{
 "cells": [
  {
   "cell_type": "code",
   "execution_count": 2,
   "id": "043f25ec-ca54-42f5-8955-91d3ea124652",
   "metadata": {},
   "outputs": [
    {
     "name": "stdout",
     "output_type": "stream",
     "text": [
      "Hello, Python!\n",
      "Hello, Python!\n",
      "Hello, Python!\n",
      "\"Hello, Python!\"\n",
      "'Hello, Python!'\n"
     ]
    }
   ],
   "source": [
    "# Hello World\n",
    "print('Hello, Python!')\n",
    "print(\"Hello, Python!\")\n",
    "print('''Hello, Python!''')\n",
    "print('\"Hello, Python!\"')\n",
    "print(\"'Hello, Python!'\")"
   ]
  },
  {
   "cell_type": "code",
   "execution_count": 5,
   "id": "7d8691e2-9d8d-40bc-b858-783275b8924e",
   "metadata": {},
   "outputs": [
    {
     "name": "stdout",
     "output_type": "stream",
     "text": [
      "The sum of the two numbers is: 9\n"
     ]
    }
   ],
   "source": [
    "# Add two numbers\n",
    "number1 =5\n",
    "number2 = 4\n",
    "sum=number1+number2\n",
    "print(\"The sum of the two numbers is:\" , sum)"
   ]
  },
  {
   "cell_type": "code",
   "execution_count": 7,
   "id": "4680cc9a-d3fb-4d19-949f-72762e7bc314",
   "metadata": {},
   "outputs": [
    {
     "name": "stdin",
     "output_type": "stream",
     "text": [
      "Enter first number:  45\n",
      "Enter second number:  45\n"
     ]
    },
    {
     "name": "stdout",
     "output_type": "stream",
     "text": [
      "The sum of the numbers is  4545\n"
     ]
    }
   ],
   "source": [
    "# What is the output of the below sum of the two numbers python program\n",
    "num1 = input('Enter first number: ') #string\n",
    "num2 = input('Enter second number: ') #string\n",
    "sum = num1+num2\n",
    "print('The sum of the numbers is ', sum)"
   ]
  },
  {
   "cell_type": "code",
   "execution_count": 10,
   "id": "10fba55e-d1ab-457f-bdef-cc6aaa1c3c3c",
   "metadata": {},
   "outputs": [
    {
     "name": "stdin",
     "output_type": "stream",
     "text": [
      "Enter first number:  100\n",
      "Enter second number:  50\n"
     ]
    },
    {
     "name": "stdout",
     "output_type": "stream",
     "text": [
      "The sum of the numbers is  150\n",
      "The sub of the numbers is  50\n",
      "The mul of the numbers is  5000\n",
      "The div of the numbers is  2.0\n"
     ]
    }
   ],
   "source": [
    "# What is the output of the below sum of the two numbers python program\n",
    "num1 = input('Enter first number: ') #string\n",
    "num2 = input('Enter second number: ') #string\n",
    "sum = int(num1)+int(num2)\n",
    "sub = int(num1)-int(num2)\n",
    "mul = int(num1)*int(num2)\n",
    "div = int(num1)/int(num2)\n",
    "\n",
    "print('The sum of the numbers is ', sum)\n",
    "print('The sub of the numbers is ', sub)\n",
    "print('The mul of the numbers is ', mul)\n",
    "print('The div of the numbers is ', div)"
   ]
  },
  {
   "cell_type": "code",
   "execution_count": 12,
   "id": "0d6147d0-c47d-4615-8d9f-543d74c0e7f9",
   "metadata": {},
   "outputs": [
    {
     "name": "stdin",
     "output_type": "stream",
     "text": [
      "Enter a number:  6\n"
     ]
    },
    {
     "name": "stdout",
     "output_type": "stream",
     "text": [
      "6 is Even number\n"
     ]
    }
   ],
   "source": [
    "#Check odd or even\n",
    "num1 = input(\"Enter a number: \")\n",
    "if(int(num1)%2)==0:\n",
    "    print(\"{0} is Even number\".format(num1))\n",
    "else:\n",
    "    print(\"{0} is odd number\".format(num1))"
   ]
  },
  {
   "cell_type": "code",
   "execution_count": 15,
   "id": "763258c8-43ad-42b9-a28b-9127625b776e",
   "metadata": {},
   "outputs": [
    {
     "name": "stdin",
     "output_type": "stream",
     "text": [
      "Enter the first number:  34\n",
      "Enter the second number:  56\n"
     ]
    },
    {
     "name": "stdout",
     "output_type": "stream",
     "text": [
      "The maximum number is:  56\n"
     ]
    }
   ],
   "source": [
    "# Find maximum of two numbers\n",
    "num1= input('Enter the first number: ')\n",
    "num2= input('Enter the second number: ')\n",
    "\n",
    "maximum = max(int(num1), int(num2))\n",
    "\n",
    "print(\"The maximum number is: \", maximum)"
   ]
  },
  {
   "cell_type": "code",
   "execution_count": 11,
   "id": "d9487ed6-3b06-4fee-b853-a85d3d75a80a",
   "metadata": {},
   "outputs": [
    {
     "name": "stdin",
     "output_type": "stream",
     "text": [
      "Enter a number to check prime or not:  7\n"
     ]
    },
    {
     "name": "stdout",
     "output_type": "stream",
     "text": [
      "The number  7 is a prime number\n"
     ]
    }
   ],
   "source": [
    "# Check prime number\n",
    "def PrimeChecking(num):\n",
    "    if num>1:\n",
    "        for i in range(2, int(num/2) + 1):\n",
    "            if(num % i)==0:\n",
    "                print(\"The number \", num, \"is not a primr number\")\n",
    "                break\n",
    "        else:\n",
    "            print(\"The number \", num, \"is a prime number\")\n",
    "    else:\n",
    "        print(\"The number \", num, \"is not a prime number\")\n",
    "num = int(input(\"Enter a number to check prime or not: \"))\n",
    "PrimeChecking(num)"
   ]
  },
  {
   "cell_type": "code",
   "execution_count": 12,
   "id": "f3eac11b-b50e-4cd6-9b7c-2bef20ed7c58",
   "metadata": {},
   "outputs": [
    {
     "name": "stdin",
     "output_type": "stream",
     "text": [
      "Please enter a number to find the factorial:  5\n"
     ]
    },
    {
     "name": "stdout",
     "output_type": "stream",
     "text": [
      "The factorial of the given number 5 is 120\n"
     ]
    }
   ],
   "source": [
    "# Factorial program without using if-else-for and ternary operators\n",
    "import math\n",
    "def factorial(num):\n",
    "    return(math.factorial(num))\n",
    "\n",
    "num = int(input('Please enter a number to find the factorial: '))\n",
    "print(\"The factorial of the given number\", num, \"is\", factorial(num))"
   ]
  },
  {
   "cell_type": "code",
   "execution_count": 14,
   "id": "e8d8b38c-eee1-4d21-b05a-bfa8af078e38",
   "metadata": {},
   "outputs": [
    {
     "name": "stdin",
     "output_type": "stream",
     "text": [
      "Enter a number:  4\n"
     ]
    },
    {
     "name": "stdout",
     "output_type": "stream",
     "text": [
      "The square root of 4.0 is 2.0\n"
     ]
    }
   ],
   "source": [
    "# Square root of a given number\n",
    "n=float(input(\"Enter a number: \"))\n",
    "\n",
    "n_sqrt=n**0.5\n",
    "print(\"The square root of {0} is {1}\".format(n, n_sqrt))"
   ]
  },
  {
   "cell_type": "code",
   "execution_count": 16,
   "id": "aa257650-f9d5-4511-b1a1-8cb9026cd37e",
   "metadata": {},
   "outputs": [
    {
     "name": "stdin",
     "output_type": "stream",
     "text": [
      "Enter first side value:  4\n",
      "Enter second side value:  6\n",
      "Enter third side value:  8\n"
     ]
    },
    {
     "name": "stdout",
     "output_type": "stream",
     "text": [
      "The area of the riangle is :  17.74823934929885\n"
     ]
    }
   ],
   "source": [
    "# calculate the are of a triangle\n",
    "s1 = float(input('Enter first side value: '))\n",
    "s2 = float(input('Enter second side value: '))\n",
    "s3 = float(input('Enter third side value: '))\n",
    "\n",
    "sp = (s1+s2+s3)/2\n",
    "\n",
    "area = (sp*(sp-s1)*(sp-2)*(sp-s3))**0.5\n",
    "print('The area of the riangle is : ', area)"
   ]
  },
  {
   "cell_type": "code",
   "execution_count": 17,
   "id": "37b5d522-3ecd-4dbe-8493-71cab201d431",
   "metadata": {},
   "outputs": [
    {
     "name": "stdin",
     "output_type": "stream",
     "text": [
      "Entr the number to check armstrong number:  153\n"
     ]
    },
    {
     "name": "stdout",
     "output_type": "stream",
     "text": [
      "The given number 153 is armstrong number\n"
     ]
    }
   ],
   "source": [
    "# Armstrong's number\n",
    "num = int(input(\"Entr the number to check armstrong number: \"))\n",
    "arms =num\n",
    "length = len(str(num))\n",
    "sum1 =0\n",
    "\n",
    "while num !=0:\n",
    "    rem=num%10\n",
    "    sum1 = sum1 +(rem**length)\n",
    "    num = num//10\n",
    "if arms == sum1:\n",
    "    print(\"The given number\", arms, \"is armstrong number\")\n",
    "else:\n",
    "    print(\"The given number\", arms, \"is not an armstrong number\")"
   ]
  },
  {
   "cell_type": "code",
   "execution_count": 23,
   "id": "e0ff513b-47a1-4e35-81dc-cbe2b3cd0789",
   "metadata": {},
   "outputs": [
    {
     "name": "stdin",
     "output_type": "stream",
     "text": [
      "Enter the year to check whether a leap year or not:  2021\n"
     ]
    },
    {
     "name": "stdout",
     "output_type": "stream",
     "text": [
      "The given Year is not a Leap Year\n"
     ]
    }
   ],
   "source": [
    "#Leap year\n",
    "\n",
    "def LeapYear(Year):\n",
    "    if (Year % 400 == 0) or ((Year % 4 ==0) and (Year % 100 !=0)):\n",
    "        print(\"The given Year is a Leap Year\")\n",
    "    else:\n",
    "        print(\"The given Year is not a Leap Year\")\n",
    "Year = int(input(\"Enter the year to check whether a leap year or not: \"))\n",
    "\n",
    "LeapYear(Year)"
   ]
  },
  {
   "cell_type": "code",
   "execution_count": 25,
   "id": "8e3a672d-c7ae-4159-852d-755aa864d00a",
   "metadata": {},
   "outputs": [
    {
     "name": "stdin",
     "output_type": "stream",
     "text": [
      " Enter a numbe to check whether it is prime or not:  7\n"
     ]
    },
    {
     "name": "stdout",
     "output_type": "stream",
     "text": [
      "7 is a prime number\n"
     ]
    }
   ],
   "source": [
    "# Check prime number\n",
    "prime_num = int(input(\" Enter a numbe to check whether it is prime or not: \"))\n",
    "if prime_num > 1:\n",
    "    for i in range(2, int(prime_num/2)+1):\n",
    "        if (prime_num%i) == 0:\n",
    "            print(prime_num, \"is not a prime number\")\n",
    "            break\n",
    "    else:\n",
    "            print(prime_num, \"is a prime number\")\n",
    "else:\n",
    "        print(prime_num, \"is not a prime number\")"
   ]
  },
  {
   "cell_type": "code",
   "execution_count": 26,
   "id": "e8d2ddca-2436-41b2-936c-f7683fced4cc",
   "metadata": {},
   "outputs": [
    {
     "name": "stdin",
     "output_type": "stream",
     "text": [
      "Enter the number of your choice to print the multiplication table:  9\n"
     ]
    },
    {
     "name": "stdout",
     "output_type": "stream",
     "text": [
      "The Multiplication Table of:  9\n",
      "9 x 1 = 9\n",
      "9 x 2 = 18\n",
      "9 x 3 = 27\n",
      "9 x 4 = 36\n",
      "9 x 5 = 45\n",
      "9 x 6 = 54\n",
      "9 x 7 = 63\n",
      "9 x 8 = 72\n",
      "9 x 9 = 81\n",
      "9 x 10 = 90\n"
     ]
    }
   ],
   "source": [
    "# display the multiplication table\n",
    "tab_number = int(input(\"Enter the number of your choice to print the multiplication table: \"))\n",
    "print(\"The Multiplication Table of: \", tab_number)\n",
    "for count in range(1, 11):\n",
    "    print(tab_number, 'x', count, '=', tab_number * count)"
   ]
  },
  {
   "cell_type": "code",
   "execution_count": 27,
   "id": "8c247b30-2479-4f9a-b769-75b0bb18dd55",
   "metadata": {},
   "outputs": [
    {
     "name": "stdin",
     "output_type": "stream",
     "text": [
      "Enter the first variable:  5\n",
      "Enter the second variable:  10\n"
     ]
    },
    {
     "name": "stdout",
     "output_type": "stream",
     "text": [
      "The value of num1 before swapping: 5\n",
      "The value of num2 before swapping: 10\n",
      "The value of num1 after swapping: 10\n",
      "The value of num2 after swapping: 5\n"
     ]
    }
   ],
   "source": [
    "#swap two variable \n",
    "num1 = input('Enter the first variable: ')\n",
    "num2 = input('Enter the second variable: ')\n",
    "\n",
    "print('The value of num1 before swapping: {}'.format(num1))\n",
    "print('The value of num2 before swapping: {}'.format(num2))\n",
    "\n",
    "temp = num1\n",
    "num1 = num2\n",
    "num2 = temp\n",
    "\n",
    "print('The value of num1 after swapping: {}'.format(num1))\n",
    "print('The value of num2 after swapping: {}'.format(num2))"
   ]
  },
  {
   "cell_type": "code",
   "execution_count": 29,
   "id": "7ae1bd88-0b47-4865-94e0-68cc45adb15e",
   "metadata": {},
   "outputs": [
    {
     "name": "stdin",
     "output_type": "stream",
     "text": [
      "Enter the number you want to check for fibonacci number:  10\n"
     ]
    },
    {
     "name": "stdout",
     "output_type": "stream",
     "text": [
      "Yes. 10 is a NOT fibonacci number.\n"
     ]
    }
   ],
   "source": [
    "# Fabonacci number\n",
    "\n",
    "fib_num = [0,1]\n",
    "number = int(input('Enter the number you want to check for fibonacci number: '))\n",
    "while fib_num[-1] <=number:\n",
    "    fib_num.append(fib_num[-1] + fib_num[-2])\n",
    "if number in fib_num:\n",
    "    print(f'Yes. {number} is a fibonacci number.')\n",
    "else:\n",
    "    print(f'Yes. {number} is a NOT fibonacci number.')"
   ]
  },
  {
   "cell_type": "code",
   "execution_count": 1,
   "id": "d6846c60-772d-42df-a040-eb59ceffd41e",
   "metadata": {},
   "outputs": [
    {
     "name": "stdin",
     "output_type": "stream",
     "text": [
      "Enter the radius of the circle:  4\n"
     ]
    },
    {
     "name": "stdout",
     "output_type": "stream",
     "text": [
      "Area of the circle is 50.272000\n"
     ]
    }
   ],
   "source": [
    "#Area of Circle\n",
    "def circ_Area(rad):\n",
    "    PI=3.142\n",
    "    return PI*(rad*rad)\n",
    "\n",
    "rad = float(input('Enter the radius of the circle: '))\n",
    "print(\"Area of the circle is %.6f\" % circ_Area(rad))"
   ]
  },
  {
   "cell_type": "code",
   "execution_count": 3,
   "id": "6782a813-b703-4b5c-b13c-36f354a85154",
   "metadata": {},
   "outputs": [
    {
     "name": "stdin",
     "output_type": "stream",
     "text": [
      "Enter the year:  2925\n",
      "Enter the month:  08\n"
     ]
    },
    {
     "name": "stdout",
     "output_type": "stream",
     "text": [
      "    August 2925\n",
      "Mo Tu We Th Fr Sa Su\n",
      "       1  2  3  4  5\n",
      " 6  7  8  9 10 11 12\n",
      "13 14 15 16 17 18 19\n",
      "20 21 22 23 24 25 26\n",
      "27 28 29 30 31\n",
      "\n"
     ]
    }
   ],
   "source": [
    "#Display Calendar\n",
    "import calendar\n",
    "year=int(input(\"Enter the year: \"))\n",
    "month = int(input(\"Enter the month: \"))\n",
    "\n",
    "print(calendar.month(year, month))"
   ]
  },
  {
   "cell_type": "code",
   "execution_count": 4,
   "id": "674d06ad-a24e-440d-880c-2ce8bf768052",
   "metadata": {},
   "outputs": [
    {
     "name": "stdin",
     "output_type": "stream",
     "text": [
      "Enter the number to find factorial:  5\n"
     ]
    },
    {
     "name": "stdout",
     "output_type": "stream",
     "text": [
      "Factorial of the number 5 is 120\n"
     ]
    }
   ],
   "source": [
    "#Factorial of given number\n",
    "import math\n",
    "def check_Fact(num):\n",
    "    return(math.factorial(num))\n",
    "\n",
    "num = int(input(\"Enter the number to find factorial: \"))\n",
    "fact = check_Fact(num)\n",
    "print(\"Factorial of the number\", num, \"is\", fact)"
   ]
  },
  {
   "cell_type": "code",
   "execution_count": 7,
   "id": "c93188ca-3236-4d38-a880-0d842c2bc905",
   "metadata": {},
   "outputs": [
    {
     "name": "stdin",
     "output_type": "stream",
     "text": [
      "Enter the starting range:  5\n",
      "Enter the ending range:  25\n"
     ]
    },
    {
     "name": "stdout",
     "output_type": "stream",
     "text": [
      "The Prime numbers in the given range are:  [5, 7, 11, 13, 17, 19, 23]\n"
     ]
    }
   ],
   "source": [
    "#print all prime numbers in an interval\n",
    "\n",
    "def disp_Prime(num1, num2):\n",
    "    prime_List = []\n",
    "    for i in range(num1, num2):\n",
    "        if i == 0 or i==1:\n",
    "            continue\n",
    "        else:\n",
    "            for j in range(2, int(i/2)+1):\n",
    "                if i%j ==0:\n",
    "                    break\n",
    "            else:\n",
    "                prime_List.append(i)\n",
    "    return prime_List\n",
    "starting_Num = int(input('Enter the starting range: '))\n",
    "ending_Num = int(input('Enter the ending range: '))\n",
    "lst = disp_Prime(starting_Num, ending_Num)\n",
    "if len(lst)==0:\n",
    "    print(\"There are no prime numbers in this range\")\n",
    "else:\n",
    "    print(\"The Prime numbers in the given range are: \", lst)"
   ]
  },
  {
   "cell_type": "code",
   "execution_count": 8,
   "id": "5ee3c306-d364-4e39-a598-054c61b05b23",
   "metadata": {},
   "outputs": [
    {
     "name": "stdout",
     "output_type": "stream",
     "text": [
      "The Vowels are:  ['e', 'o']\n",
      "The Vowels are:  ['o', 'i', 'u']\n",
      "The Vowels are:  ['a', 'a', 'a', 'o', 'u', 'i', 'o']\n",
      "The Vowels are:  []\n"
     ]
    }
   ],
   "source": [
    "# Find vowels from a string\n",
    "\n",
    "def get_vowels(String):\n",
    "    return [each for each in String if each in \"aeiou\"]\n",
    "get_string1 = \"hello\"\n",
    "get_string2 = \"python is fun\"\n",
    "get_string3 = \"ahsanlabsolution\"\n",
    "get_string4 = \"12345xyz\"\n",
    "\n",
    "print(\"The Vowels are: \", get_vowels(get_string1))\n",
    "print(\"The Vowels are: \", get_vowels(get_string2))\n",
    "print(\"The Vowels are: \", get_vowels(get_string3))\n",
    "print(\"The Vowels are: \", get_vowels(get_string4))"
   ]
  },
  {
   "cell_type": "code",
   "execution_count": 9,
   "id": "92924bf8-e3f0-4e3c-a624-4fa64aa91f10",
   "metadata": {},
   "outputs": [
    {
     "name": "stdout",
     "output_type": "stream",
     "text": [
      "What is your favourite programming language: Python,SQL,GO\n"
     ]
    }
   ],
   "source": [
    "# comma separated list t a string\n",
    "\n",
    "favourite_prog = [\"Python\", \"SQL\", \"GO\"]\n",
    "print(\"What is your favourite programming language:\",\",\".join(favourite_prog))"
   ]
  },
  {
   "cell_type": "code",
   "execution_count": 12,
   "id": "fb01568f-75d9-42a8-b706-6cbe22bd64d1",
   "metadata": {},
   "outputs": [
    {
     "name": "stdout",
     "output_type": "stream",
     "text": [
      "The Capitalized String is:  Hello\n",
      "The Capitalized String is:  Python Programming\n",
      "The Capitalized String is:  Python Is Easy To Learn\n"
     ]
    }
   ],
   "source": [
    "# Capitalize the forst letter of a string\n",
    "\n",
    "def capitalize(String):\n",
    "    return String.title()\n",
    "\n",
    "get_capital1 = \"hello\"\n",
    "get_capital2 = \"python programming\"\n",
    "get_capital3 = \"python is easy to learn\"\n",
    "\n",
    "print(\"The Capitalized String is: \", capitalize(get_capital1))\n",
    "print(\"The Capitalized String is: \", capitalize(get_capital2))\n",
    "print(\"The Capitalized String is: \", capitalize(get_capital3))"
   ]
  },
  {
   "cell_type": "code",
   "execution_count": 13,
   "id": "336a6bd2-eb2e-4918-aee3-944013d49f36",
   "metadata": {},
   "outputs": [
    {
     "name": "stdout",
     "output_type": "stream",
     "text": [
      "Datatype of get_num1: <class 'int'>\n",
      "Datatype of get_num2: <class 'float'>\n",
      "The value of get_num3: 200.25\n",
      "Datatype of get_num3: <class 'float'>\n"
     ]
    }
   ],
   "source": [
    "# Implicit type casting example\n",
    "\n",
    "get_num1= 199\n",
    "get_num2 = 1.25\n",
    "get_num3 = get_num1 + get_num2\n",
    "\n",
    "print(\"Datatype of get_num1:\", type(get_num1))\n",
    "print(\"Datatype of get_num2:\", type(get_num2))\n",
    "\n",
    "print(\"The value of get_num3:\", get_num3)\n",
    "print(\"Datatype of get_num3:\", type(get_num3))"
   ]
  },
  {
   "cell_type": "code",
   "execution_count": 14,
   "id": "9f7f912b-6fe2-4961-9b79-8f6bf56bdd66",
   "metadata": {},
   "outputs": [
    {
     "name": "stdout",
     "output_type": "stream",
     "text": [
      "Datatype of num1: <class 'int'>\n",
      "Datatype of num2: <class 'str'>\n"
     ]
    },
    {
     "ename": "TypeError",
     "evalue": "unsupported operand type(s) for +: 'int' and 'str'",
     "output_type": "error",
     "traceback": [
      "\u001b[1;31m---------------------------------------------------------------------------\u001b[0m",
      "\u001b[1;31mTypeError\u001b[0m                                 Traceback (most recent call last)",
      "Cell \u001b[1;32mIn[14], line 8\u001b[0m\n\u001b[0;32m      6\u001b[0m \u001b[38;5;28mprint\u001b[39m(\u001b[38;5;124m\"\u001b[39m\u001b[38;5;124mDatatype of num1:\u001b[39m\u001b[38;5;124m\"\u001b[39m, \u001b[38;5;28mtype\u001b[39m(num1))\n\u001b[0;32m      7\u001b[0m \u001b[38;5;28mprint\u001b[39m(\u001b[38;5;124m\"\u001b[39m\u001b[38;5;124mDatatype of num2:\u001b[39m\u001b[38;5;124m\"\u001b[39m, \u001b[38;5;28mtype\u001b[39m(num2))\n\u001b[1;32m----> 8\u001b[0m \u001b[38;5;28mprint\u001b[39m(\u001b[38;5;124m\"\u001b[39m\u001b[38;5;124mnum1 datatype is:\u001b[39m\u001b[38;5;124m\"\u001b[39m, \u001b[38;5;28mtype\u001b[39m(num1\u001b[38;5;241m+\u001b[39mnum2))\n",
      "\u001b[1;31mTypeError\u001b[0m: unsupported operand type(s) for +: 'int' and 'str'"
     ]
    }
   ],
   "source": [
    "# Implicit type casting example\n",
    "\n",
    "num1=123\n",
    "num2=\"456\"\n",
    "\n",
    "print(\"Datatype of num1:\", type(num1))\n",
    "print(\"Datatype of num2:\", type(num2))\n",
    "print(\"num1 datatype is:\", type(num1+num2))"
   ]
  },
  {
   "cell_type": "code",
   "execution_count": 15,
   "id": "7ed10057-875e-475c-93a4-e95e15672090",
   "metadata": {},
   "outputs": [
    {
     "name": "stdout",
     "output_type": "stream",
     "text": [
      "Datatype of num1: <class 'int'>\n",
      "Datatype of num2 before type casting: <class 'str'>\n",
      "Datatype of num2 after type casting is: <class 'int'>\n",
      "Sum of num1 and num2: 579\n",
      "Data type of the num3: <class 'int'>\n"
     ]
    }
   ],
   "source": [
    "#Explicit type casting example\n",
    "\n",
    "num1=123\n",
    "num2=\"456\"\n",
    "\n",
    "print(\"Datatype of num1:\", type(num1))\n",
    "print(\"Datatype of num2 before type casting:\", type(num2))\n",
    "\n",
    "num2 = int(num2)\n",
    "print(\"Datatype of num2 after type casting is:\", type(num2))\n",
    "\n",
    "num3=num1+num2\n",
    "print(\"Sum of num1 and num2:\", num3)\n",
    "print(\"Data type of the num3:\", type(num3))"
   ]
  },
  {
   "cell_type": "code",
   "execution_count": 16,
   "id": "5b5a7811-eb86-437b-8f3d-611b9eb5eee9",
   "metadata": {},
   "outputs": [
    {
     "name": "stdout",
     "output_type": "stream",
     "text": [
      "num = 30\n",
      "num = 20\n",
      "num = 10\n"
     ]
    }
   ],
   "source": [
    "# Namespace programming example\n",
    "\n",
    "def outer_function():\n",
    "    num = 20\n",
    "\n",
    "    def inner_function():\n",
    "        num = 30\n",
    "        print('num =', num)\n",
    "\n",
    "    inner_function()\n",
    "    print('num =', num)\n",
    "\n",
    "num = 10\n",
    "outer_function()\n",
    "print('num =', num)"
   ]
  },
  {
   "cell_type": "code",
   "execution_count": 17,
   "id": "f065a32e-20c7-4192-aafc-5df5ce3d96bd",
   "metadata": {},
   "outputs": [
    {
     "name": "stdout",
     "output_type": "stream",
     "text": [
      "num = 30\n",
      "num = 30\n",
      "num = 30\n"
     ]
    }
   ],
   "source": [
    "# Namespace programming example\n",
    "\n",
    "def outer_function():\n",
    "    global num\n",
    "    num = 20\n",
    "\n",
    "    def inner_function():\n",
    "        global num\n",
    "        num = 30\n",
    "        print('num =', num)\n",
    "\n",
    "    inner_function()\n",
    "    print('num =', num)\n",
    "\n",
    "num = 10\n",
    "outer_function()\n",
    "print('num =', num)"
   ]
  },
  {
   "cell_type": "code",
   "execution_count": 18,
   "id": "72f00543-dcac-43dd-9180-a7cc8e81172c",
   "metadata": {},
   "outputs": [
    {
     "name": "stdout",
     "output_type": "stream",
     "text": [
      "Hello, World!\n"
     ]
    }
   ],
   "source": [
    "# What does this do, and why should one include the if statement\n",
    "\n",
    "if __name__ == \"__main__\":\n",
    "    print(\"Hello, World!\")"
   ]
  },
  {
   "cell_type": "code",
   "execution_count": 20,
   "id": "97ab485a-21b5-4c97-8feb-e290be4f1716",
   "metadata": {},
   "outputs": [
    {
     "ename": "ModuleNotFoundError",
     "evalue": "No module named 'foo'",
     "output_type": "error",
     "traceback": [
      "\u001b[1;31m---------------------------------------------------------------------------\u001b[0m",
      "\u001b[1;31mModuleNotFoundError\u001b[0m                       Traceback (most recent call last)",
      "Cell \u001b[1;32mIn[20], line 8\u001b[0m\n\u001b[0;32m      5\u001b[0m bar\u001b[38;5;241m=\u001b[39m\u001b[38;5;241m10\u001b[39m\n\u001b[0;32m      6\u001b[0m \u001b[38;5;28;01mdef\u001b[39;00m\u001b[38;5;250m \u001b[39m\u001b[38;5;21mbaz\u001b[39m(): \u001b[38;5;28;01mreturn\u001b[39;00m \u001b[38;5;124m'\u001b[39m\u001b[38;5;124mbaz\u001b[39m\u001b[38;5;124m'\u001b[39m\n\u001b[1;32m----> 8\u001b[0m \u001b[38;5;28;01mfrom\u001b[39;00m\u001b[38;5;250m \u001b[39m\u001b[38;5;21;01mfoo\u001b[39;00m\u001b[38;5;250m \u001b[39m\u001b[38;5;28;01mimport\u001b[39;00m\u001b[38;5;241m*\u001b[39m\n\u001b[0;32m      9\u001b[0m \u001b[38;5;28mprint\u001b[39m(bar)\n\u001b[0;32m     10\u001b[0m \u001b[38;5;28mprint\u001b[39m(baz)\n",
      "\u001b[1;31mModuleNotFoundError\u001b[0m: No module named 'foo'"
     ]
    }
   ],
   "source": [
    "#What does __all__ mean in python\n",
    "\n",
    "__all__ = ['bar', 'baz']\n",
    "waz=5\n",
    "bar=10\n",
    "def baz(): return 'baz'\n",
    "\n",
    "from foo import*\n",
    "print(bar)\n",
    "print(baz)\n",
    "\n",
    "print(waz)"
   ]
  },
  {
   "cell_type": "code",
   "execution_count": null,
   "id": "e915cd84-9173-401e-94dc-a979b958aa15",
   "metadata": {},
   "outputs": [],
   "source": []
  },
  {
   "cell_type": "code",
   "execution_count": null,
   "id": "713014b4-8d54-4c86-8062-c9cdab0b5898",
   "metadata": {},
   "outputs": [],
   "source": []
  },
  {
   "cell_type": "code",
   "execution_count": null,
   "id": "cafc5fef-3bb9-4b81-91b2-b4afad8e3d7b",
   "metadata": {},
   "outputs": [],
   "source": []
  },
  {
   "cell_type": "code",
   "execution_count": null,
   "id": "416dc211-a621-425c-90db-26dc8064e4d9",
   "metadata": {},
   "outputs": [],
   "source": []
  },
  {
   "cell_type": "code",
   "execution_count": null,
   "id": "525649d4-382b-4164-93dc-46ed29d9f6d7",
   "metadata": {},
   "outputs": [],
   "source": []
  },
  {
   "cell_type": "code",
   "execution_count": null,
   "id": "c9f03c06-e4bc-4ef9-bb06-81215510c7a5",
   "metadata": {},
   "outputs": [],
   "source": []
  },
  {
   "cell_type": "code",
   "execution_count": null,
   "id": "133ee244-405a-47a6-bf4a-595583b4dfbc",
   "metadata": {},
   "outputs": [],
   "source": []
  },
  {
   "cell_type": "code",
   "execution_count": null,
   "id": "b87596de-8a80-4cbd-80f8-88ebfcae4e11",
   "metadata": {},
   "outputs": [],
   "source": []
  },
  {
   "cell_type": "code",
   "execution_count": null,
   "id": "8a71a190-7ba0-45c9-ade5-dec962c40a58",
   "metadata": {},
   "outputs": [],
   "source": []
  },
  {
   "cell_type": "code",
   "execution_count": null,
   "id": "7774e655-3b46-41f6-84bf-975cbfcf1e47",
   "metadata": {},
   "outputs": [],
   "source": []
  },
  {
   "cell_type": "code",
   "execution_count": null,
   "id": "b5a5c788-8fc0-418f-8bd1-c66ebe084e14",
   "metadata": {},
   "outputs": [],
   "source": []
  },
  {
   "cell_type": "code",
   "execution_count": null,
   "id": "f5cc813d-a88c-4a64-b2bb-4ad413a90d34",
   "metadata": {},
   "outputs": [],
   "source": []
  },
  {
   "cell_type": "code",
   "execution_count": null,
   "id": "533b4dd6-b8e3-48ae-95a4-da24b4207a09",
   "metadata": {},
   "outputs": [],
   "source": []
  },
  {
   "cell_type": "code",
   "execution_count": null,
   "id": "6c34ac0f-9695-40d2-9f71-c14b4bbf1d58",
   "metadata": {},
   "outputs": [],
   "source": []
  },
  {
   "cell_type": "code",
   "execution_count": null,
   "id": "99c9c685-f8c1-4b6f-9137-40ba8dcf02c5",
   "metadata": {},
   "outputs": [],
   "source": []
  },
  {
   "cell_type": "code",
   "execution_count": null,
   "id": "0241ae0d-4d16-4cc4-9db3-466249c0fdbf",
   "metadata": {},
   "outputs": [],
   "source": []
  },
  {
   "cell_type": "code",
   "execution_count": null,
   "id": "efa10e24-6c65-407b-aa5a-0a21a3873d67",
   "metadata": {},
   "outputs": [],
   "source": []
  },
  {
   "cell_type": "code",
   "execution_count": null,
   "id": "f5ca953f-a124-4461-baab-63c133465c27",
   "metadata": {},
   "outputs": [],
   "source": []
  },
  {
   "cell_type": "code",
   "execution_count": null,
   "id": "1a834805-2673-4de0-996a-34d4529efda4",
   "metadata": {},
   "outputs": [],
   "source": []
  },
  {
   "cell_type": "code",
   "execution_count": null,
   "id": "424a8c04-eee7-4bc3-a130-78e5fceda2cb",
   "metadata": {},
   "outputs": [],
   "source": []
  },
  {
   "cell_type": "code",
   "execution_count": null,
   "id": "87c31b14-7d94-4030-ad49-f6cf1bf260b8",
   "metadata": {},
   "outputs": [],
   "source": []
  },
  {
   "cell_type": "code",
   "execution_count": null,
   "id": "9395b4c5-f62f-4275-a214-9302c3d937d7",
   "metadata": {},
   "outputs": [],
   "source": []
  },
  {
   "cell_type": "code",
   "execution_count": null,
   "id": "50cb79c0-6cd4-45ab-8146-794a094da1ad",
   "metadata": {},
   "outputs": [],
   "source": []
  },
  {
   "cell_type": "code",
   "execution_count": null,
   "id": "71df4dd3-af77-43a4-be30-14ab6283c842",
   "metadata": {},
   "outputs": [],
   "source": []
  },
  {
   "cell_type": "code",
   "execution_count": null,
   "id": "49256c98-d721-47f9-9dba-3e1f37e73005",
   "metadata": {},
   "outputs": [],
   "source": []
  },
  {
   "cell_type": "code",
   "execution_count": null,
   "id": "bc10e1cc-4716-48f1-8c37-4503d0e77d00",
   "metadata": {},
   "outputs": [],
   "source": []
  },
  {
   "cell_type": "code",
   "execution_count": null,
   "id": "c8687bc7-4fd6-48d4-931d-245b3c9ccf2d",
   "metadata": {},
   "outputs": [],
   "source": []
  },
  {
   "cell_type": "code",
   "execution_count": null,
   "id": "5422aae0-0d28-475b-a627-b2c305ab93b5",
   "metadata": {},
   "outputs": [],
   "source": []
  },
  {
   "cell_type": "code",
   "execution_count": null,
   "id": "a943fd36-76d1-4828-a389-2310b5dda995",
   "metadata": {},
   "outputs": [],
   "source": []
  },
  {
   "cell_type": "code",
   "execution_count": null,
   "id": "ee4ac481-523e-4b3d-8c66-6296cb51b9c7",
   "metadata": {},
   "outputs": [],
   "source": []
  },
  {
   "cell_type": "code",
   "execution_count": null,
   "id": "b43e2b59-a4b0-4366-bd11-41a76db5be53",
   "metadata": {},
   "outputs": [],
   "source": []
  },
  {
   "cell_type": "code",
   "execution_count": null,
   "id": "673dd37a-f41e-4720-b497-26e73cba1d17",
   "metadata": {},
   "outputs": [],
   "source": []
  },
  {
   "cell_type": "code",
   "execution_count": null,
   "id": "26a3793f-f4d2-458d-96f3-68bdf7ec8282",
   "metadata": {},
   "outputs": [],
   "source": []
  },
  {
   "cell_type": "code",
   "execution_count": null,
   "id": "539be550-834c-4cc7-adee-d04c72e7f7ce",
   "metadata": {},
   "outputs": [],
   "source": []
  },
  {
   "cell_type": "code",
   "execution_count": null,
   "id": "1f76518f-fa4c-4ce5-99ac-54dd8c0c5cab",
   "metadata": {},
   "outputs": [],
   "source": []
  },
  {
   "cell_type": "code",
   "execution_count": null,
   "id": "7f96cf02-ecef-4c0e-a076-750740035217",
   "metadata": {},
   "outputs": [],
   "source": []
  },
  {
   "cell_type": "code",
   "execution_count": null,
   "id": "95c55e2c-16aa-4fb6-96b2-03d2de7655e9",
   "metadata": {},
   "outputs": [],
   "source": []
  },
  {
   "cell_type": "code",
   "execution_count": null,
   "id": "f79e047d-0a6f-40d0-ba07-54dbfda51133",
   "metadata": {},
   "outputs": [],
   "source": []
  },
  {
   "cell_type": "code",
   "execution_count": null,
   "id": "b68a8db5-ffdd-476e-9aa7-e40fc6516757",
   "metadata": {},
   "outputs": [],
   "source": []
  },
  {
   "cell_type": "code",
   "execution_count": null,
   "id": "8d58720b-39bf-46c3-bbad-1ee565310674",
   "metadata": {},
   "outputs": [],
   "source": []
  },
  {
   "cell_type": "code",
   "execution_count": null,
   "id": "5d5cd5e3-8628-4c41-bb85-b45530bf675f",
   "metadata": {},
   "outputs": [],
   "source": []
  },
  {
   "cell_type": "code",
   "execution_count": null,
   "id": "caec0369-526a-46f0-afe1-00f0926130df",
   "metadata": {},
   "outputs": [],
   "source": []
  },
  {
   "cell_type": "code",
   "execution_count": null,
   "id": "6dd5a540-0e3f-4c45-abcf-aada8c27a4f4",
   "metadata": {},
   "outputs": [],
   "source": []
  },
  {
   "cell_type": "code",
   "execution_count": null,
   "id": "d3d52ddb-ce86-4efa-a294-a0aaa21451b7",
   "metadata": {},
   "outputs": [],
   "source": []
  },
  {
   "cell_type": "code",
   "execution_count": null,
   "id": "ebe5c14d-62ab-45df-9071-e448e9da20cb",
   "metadata": {},
   "outputs": [],
   "source": []
  },
  {
   "cell_type": "code",
   "execution_count": null,
   "id": "138e96fc-e6d3-437b-be71-a09b211c18ed",
   "metadata": {},
   "outputs": [],
   "source": []
  }
 ],
 "metadata": {
  "kernelspec": {
   "display_name": "Python [conda env:base] *",
   "language": "python",
   "name": "conda-base-py"
  },
  "language_info": {
   "codemirror_mode": {
    "name": "ipython",
    "version": 3
   },
   "file_extension": ".py",
   "mimetype": "text/x-python",
   "name": "python",
   "nbconvert_exporter": "python",
   "pygments_lexer": "ipython3",
   "version": "3.13.5"
  }
 },
 "nbformat": 4,
 "nbformat_minor": 5
}
